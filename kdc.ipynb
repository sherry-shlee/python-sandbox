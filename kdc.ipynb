{
  "cells": [
    {
      "cell_type": "markdown",
      "metadata": {
        "id": "view-in-github",
        "colab_type": "text"
      },
      "source": [
        "<a href=\"https://colab.research.google.com/github/sherry-shlee/python-sandbox/blob/main/kdc.ipynb\" target=\"_parent\"><img src=\"https://colab.research.google.com/assets/colab-badge.svg\" alt=\"Open In Colab\"/></a>"
      ]
    },
    {
      "cell_type": "code",
      "execution_count": null,
      "metadata": {
        "id": "Whp5BmntNY05",
        "outputId": "1ea09ac7-ed15-48c3-f1a9-8e36e5745e3b",
        "colab": {
          "base_uri": "https://localhost:8080/"
        }
      },
      "outputs": [
        {
          "output_type": "stream",
          "name": "stdout",
          "text": [
            "1.5\n",
            "1\n",
            "1\n",
            "9\n",
            "9\n"
          ]
        }
      ],
      "source": [
        "# 사칙연산 결과 반환 우선순위: float -> int\n",
        "print(3 / 2)    # 나누기 연산 - 결과: 1.5\n",
        "print(3 // 2)   # 몫 연산 - 결과: 1\n",
        "print(3 % 2)    # 나머지 연산 - 결과: 1\n",
        "print(3 ** 2)   # 제곱 연산 - 결과: 9\n",
        "print(pow(3,2)) # 제곱 연산 - 결과: 9"
      ]
    },
    {
      "cell_type": "code",
      "execution_count": null,
      "metadata": {
        "id": "tR9_eI4DNY06",
        "outputId": "b74a69bf-4ea2-4542-ac82-e3f4762752fd",
        "colab": {
          "base_uri": "https://localhost:8080/"
        }
      },
      "outputs": [
        {
          "output_type": "stream",
          "name": "stdout",
          "text": [
            "1.5\n",
            "1\n",
            "3.14\n"
          ]
        }
      ],
      "source": [
        "# 사칙연산확장 및 형변환\n",
        "print(3/2)                  # 소수형(float)으로 반환됨\n",
        "print(int(3/2))             # 정수형(int)으로 반환됨\n",
        "print(round(3.141592, 2))   # 결과: 3.14"
      ]
    },
    {
      "cell_type": "code",
      "execution_count": null,
      "metadata": {
        "id": "Ww98POsWNY06",
        "outputId": "fe19651c-f1ae-471f-d9a8-70ee3e25c8b8",
        "colab": {
          "base_uri": "https://localhost:8080/"
        }
      },
      "outputs": [
        {
          "output_type": "stream",
          "name": "stdout",
          "text": [
            "34\n",
            "HelloHelloHello\n",
            "안녕하세요 '파이썬'으로 개발하는 \"홍길동\" 입니다.\n",
            "안녕하세요 -이름:홍길동 -나이:20\n",
            "\"   \t 안녕 하세요 !  \n",
            "  \"\n",
            "['1', '2', '3']\n"
          ]
        }
      ],
      "source": [
        "# 문자열연산\n",
        "print(\"3\"+\"4\")    # 결과: 34\n",
        "print(\"Hello\"*3)  # 결과: HelloHelloHello\n",
        "print(\"안녕하세요 \\'파이썬\\'으로 개발하는 \\\"홍길동\\\" 입니다.\")\n",
        "\n",
        "name=\"홍길동\"\n",
        "age=20\n",
        "print(f\"안녕하세요 -이름:{name} -나이:{age}\")  # f-string: python3.6부터 추가된 문법\n",
        "\n",
        "s=\"\\\"   \\t 안녕 하세요 !  \\n  \\\"\"\n",
        "print(s.strip())     # 결과: 안녕하세요!\n",
        "\n",
        "s=\"1.2.3\"\n",
        "print(s.split(\".\"))  # 결과: [\"1\", \"2\", \"3\"]"
      ]
    },
    {
      "cell_type": "code",
      "execution_count": 1,
      "metadata": {
        "id": "mwnPKh2lNY06",
        "outputId": "15604719-a033-471d-e969-726aeccbd543",
        "colab": {
          "base_uri": "https://localhost:8080/"
        }
      },
      "outputs": [
        {
          "output_type": "stream",
          "name": "stdout",
          "text": [
            "True\n",
            "False\n",
            "True\n",
            "False\n",
            "False\n",
            "True\n",
            "True\n"
          ]
        }
      ],
      "source": [
        "# 논리연산\n",
        "print(not not True)   # 결과: True\n",
        "print(not not False)  # 결과: False\n",
        "print(not (3<2))      # 결과: True\n",
        "print((3<2) & (\"Hello\"==\"Hello\")) # 결과: False\n",
        "print(3<2 and \"Hello\"==\"Hello\")   # 결과: False\n",
        "print((3<2) | (\"Hello\"==\"Hello\")) # 결과: True\n",
        "print(3<2 or \"Hello\"==\"Hello\")    # 결과: True"
      ]
    },
    {
      "cell_type": "code",
      "execution_count": null,
      "metadata": {
        "id": "6RJYJ6ojNY07",
        "outputId": "ee2b6e7d-fa89-49ce-c4b1-777c587f58d3",
        "colab": {
          "base_uri": "https://localhost:8080/"
        }
      },
      "outputs": [
        {
          "output_type": "stream",
          "name": "stdout",
          "text": [
            "<class 'int'>\n",
            "<class 'float'>\n",
            "<class 'str'>\n",
            "<class 'bool'>\n",
            "<class 'dict'>\n"
          ]
        }
      ],
      "source": [
        "# 자료형 - 변수\n",
        "print(type(3))       # 결과: <class 'int'>\n",
        "print(type(3.0))     # 결과: <class 'float'>\n",
        "print(type(\"True\"))  # 결과: <class 'str'>\n",
        "print(type(True))    # 결과: <class 'bool'>\n",
        "dic={\n",
        "  5: 25,\n",
        "  2: 4\n",
        "}\n",
        "print(type(dic))     # 결과: <class 'dict'>"
      ]
    },
    {
      "cell_type": "code",
      "execution_count": null,
      "metadata": {
        "id": "fRrGRWv1NY07",
        "outputId": "a838de40-a947-4012-8d9f-820db98aa8b0",
        "colab": {
          "base_uri": "https://localhost:8080/"
        }
      },
      "outputs": [
        {
          "output_type": "stream",
          "name": "stdout",
          "text": [
            "<class 'function'>\n",
            "<class 'builtin_function_or_method'>\n"
          ]
        }
      ],
      "source": [
        "# 자료형 - 메서드\n",
        "def myself():\n",
        "\tprint(\"Hello World\")\n",
        "print(type(myself))  # 결과: <class 'function'>\n",
        "print(type(print))   # 결과: <class 'builtin_function_or_method'>"
      ]
    },
    {
      "cell_type": "code",
      "execution_count": null,
      "metadata": {
        "id": "Dzv-JA9qNY07"
      },
      "outputs": [],
      "source": [
        "# 함수\n",
        "# def myself(name, age, nationality=\"한국\"): # optional param은 항상 마지막에\n",
        "# def myself(name, age=\"20\", nationality):   # SyntaxError 발생"
      ]
    },
    {
      "cell_type": "code",
      "execution_count": null,
      "metadata": {
        "id": "2MamA3tVNY07",
        "outputId": "9f1cef91-2036-4378-e62a-78c67e5ca51c",
        "colab": {
          "base_uri": "https://localhost:8080/"
        }
      },
      "outputs": [
        {
          "output_type": "stream",
          "name": "stdout",
          "text": [
            "3\n",
            "2\n"
          ]
        }
      ],
      "source": [
        "# 변수 Scope\n",
        "x=2  # 전역변수(global variable)\n",
        "def my_function():\n",
        "\tx=3      # 지역변수(local variable)\n",
        "\tprint(x) # 지역변수 x를 취급함\n",
        "my_function()  # 결과: 3\n",
        "print(x)       # 결과: 2"
      ]
    },
    {
      "cell_type": "code",
      "execution_count": null,
      "metadata": {
        "id": "_Vci9zmVNY07"
      },
      "outputs": [],
      "source": [
        "# 반복문\n",
        "# while(계속반복조건):"
      ]
    },
    {
      "cell_type": "code",
      "execution_count": null,
      "metadata": {
        "id": "KvGHuqt2NY07",
        "outputId": "1351b398-d4ab-49e6-898c-85c808f495f9",
        "colab": {
          "base_uri": "https://localhost:8080/"
        }
      },
      "outputs": [
        {
          "output_type": "stream",
          "name": "stdout",
          "text": [
            "F\n"
          ]
        }
      ],
      "source": [
        "# 조건문\n",
        "total = 70\n",
        "if total >= 90: print(\"A\")\n",
        "elif total >= 80: print(\"B\")  # elif특징: 80이상 90미만을 뜻함\n",
        "else: print(\"F\")"
      ]
    },
    {
      "cell_type": "code",
      "execution_count": null,
      "metadata": {
        "id": "jMZVnJ0YNY08",
        "outputId": "6d15159e-b4ff-4a47-f3c3-e7ad67d42558",
        "colab": {
          "base_uri": "https://localhost:8080/"
        }
      },
      "outputs": [
        {
          "output_type": "stream",
          "name": "stdout",
          "text": [
            "2\n",
            "[5]\n",
            "True\n",
            "2\n",
            "[2, 3, 4, 5]\n",
            "[5, 4, 3, 2]\n",
            "[5, 4, 3, 2]\n",
            "[4, 3, 2]\n"
          ]
        }
      ],
      "source": [
        "# 리스트\n",
        "nums=[]\n",
        "nums.append(3)\n",
        "nums.append(5)\n",
        "print(len(nums))  # 결과: 2\n",
        "del nums[0]\n",
        "print(nums)  # 결과: [5]\n",
        "\n",
        "nums=[2,3,5]\n",
        "print(4 not in nums)  # 결과: true\n",
        "nums.insert(2,4)\n",
        "print(nums.index(4))  # 결과: 2\n",
        "print(nums)                         # 결과: [2,3,4,5]\n",
        "print(sorted(nums, reverse=True))   # 결과: [5,4,3,2]\n",
        "nums.sort(reverse=True)\n",
        "print(nums)                         # 결과: [5,4,3,2]\n",
        "nums.remove(5)\n",
        "print(nums)                         # 결과: [4,3,2]"
      ]
    },
    {
      "cell_type": "code",
      "execution_count": null,
      "metadata": {
        "id": "yiqMpUwjNY08",
        "outputId": "b2e75625-a250-4d1b-ad12-62b4a70bdede",
        "colab": {
          "base_uri": "https://localhost:8080/"
        }
      },
      "outputs": [
        {
          "output_type": "stream",
          "name": "stdout",
          "text": [
            "첫번째\n",
            "두번째\n",
            "세번째\n",
            "첫번째\n",
            "두번째\n",
            "세번째\n"
          ]
        }
      ],
      "source": [
        "# 리스트 반복문 - while문\n",
        "arr=[\"첫번째\", \"두번째\", \"세번째\"]\n",
        "i=0  # 0부터 시작하는 습관\n",
        "while(i<len(arr)):\n",
        "  print(arr[i])\n",
        "  i+=1\n",
        "\n",
        "# 리스트 반복문 - for문\n",
        "for num in arr:\n",
        "  print(num)"
      ]
    },
    {
      "cell_type": "code",
      "execution_count": null,
      "metadata": {
        "id": "yuQ_k9cRNY08",
        "outputId": "0e02d54a-449e-414c-8b6e-f77c8c825576",
        "colab": {
          "base_uri": "https://localhost:8080/"
        }
      },
      "outputs": [
        {
          "output_type": "stream",
          "name": "stdout",
          "text": [
            "1 * 1 = 1\n",
            "1 * 2 = 2\n",
            "1 * 3 = 3\n",
            "1 * 4 = 4\n",
            "1 * 5 = 5\n",
            "1 * 6 = 6\n",
            "1 * 7 = 7\n",
            "1 * 8 = 8\n",
            "1 * 9 = 9\n",
            "2 * 1 = 2\n",
            "2 * 2 = 4\n",
            "2 * 3 = 6\n",
            "2 * 4 = 8\n",
            "2 * 5 = 10\n",
            "2 * 6 = 12\n",
            "2 * 7 = 14\n",
            "2 * 8 = 16\n",
            "2 * 9 = 18\n",
            "3 * 1 = 3\n",
            "3 * 2 = 6\n",
            "3 * 3 = 9\n",
            "3 * 4 = 12\n",
            "3 * 5 = 15\n",
            "3 * 6 = 18\n",
            "3 * 7 = 21\n",
            "3 * 8 = 24\n",
            "3 * 9 = 27\n",
            "4 * 1 = 4\n",
            "4 * 2 = 8\n",
            "4 * 3 = 12\n",
            "4 * 4 = 16\n",
            "4 * 5 = 20\n",
            "4 * 6 = 24\n",
            "4 * 7 = 28\n",
            "4 * 8 = 32\n",
            "4 * 9 = 36\n",
            "5 * 1 = 5\n",
            "5 * 2 = 10\n",
            "5 * 3 = 15\n",
            "5 * 4 = 20\n",
            "5 * 5 = 25\n",
            "5 * 6 = 30\n",
            "5 * 7 = 35\n",
            "5 * 8 = 40\n",
            "5 * 9 = 45\n",
            "6 * 1 = 6\n",
            "6 * 2 = 12\n",
            "6 * 3 = 18\n",
            "6 * 4 = 24\n",
            "6 * 5 = 30\n",
            "6 * 6 = 36\n",
            "6 * 7 = 42\n",
            "6 * 8 = 48\n",
            "6 * 9 = 54\n",
            "7 * 1 = 7\n",
            "7 * 2 = 14\n",
            "7 * 3 = 21\n",
            "7 * 4 = 28\n",
            "7 * 5 = 35\n",
            "7 * 6 = 42\n",
            "7 * 7 = 49\n",
            "7 * 8 = 56\n",
            "7 * 9 = 63\n",
            "8 * 1 = 8\n",
            "8 * 2 = 16\n",
            "8 * 3 = 24\n",
            "8 * 4 = 32\n",
            "8 * 5 = 40\n",
            "8 * 6 = 48\n",
            "8 * 7 = 56\n",
            "8 * 8 = 64\n",
            "8 * 9 = 72\n",
            "9 * 1 = 9\n",
            "9 * 2 = 18\n",
            "9 * 3 = 27\n",
            "9 * 4 = 36\n",
            "9 * 5 = 45\n",
            "9 * 6 = 54\n",
            "9 * 7 = 63\n",
            "9 * 8 = 72\n",
            "9 * 9 = 81\n"
          ]
        }
      ],
      "source": [
        "# 리스트 반복문 - for문\n",
        "for i in range(1,10):\n",
        "    for j in range(1,10):\n",
        "        print(f\"{i} * {j} = {i*j}\")"
      ]
    },
    {
      "cell_type": "code",
      "source": [
        "# 리스트 - 활용\n",
        "nums=[1,7,3,6,5,2,13,14]\n",
        "i=0\n",
        "while(i<len(nums)):\n",
        "  if (nums[i]%2!=0): nums.pop(i)\n",
        "  else: i+=1\n",
        "print(nums)  # 실행1과 실행2는 같은 결과\n",
        "\n",
        "nums=[1,7,3,6,5,2,13,14]\n",
        "nums = [x for x in nums if x % 2 == 0]\n",
        "print(nums)  # 실행1과 실행2는 같은 결과"
      ],
      "metadata": {
        "colab": {
          "base_uri": "https://localhost:8080/"
        },
        "id": "KbIVRErXiE9q",
        "outputId": "35f249f3-ba5a-4797-98b5-879d508e9022"
      },
      "execution_count": null,
      "outputs": [
        {
          "output_type": "stream",
          "name": "stdout",
          "text": [
            "[6, 2, 14]\n",
            "[6, 2, 14]\n"
          ]
        }
      ]
    },
    {
      "cell_type": "code",
      "source": [
        "# 중첩리스트 - nested list\n",
        "# 세 번의 시험을 보는 수업\n",
        "grades = [[62, 75, 77], [78, 81, 86], [85, 91, 89]]\n",
        "# 첫 번째 시험의 평균\n",
        "print((grades[0][0] + grades[1][0] + grades[2][0]) / 3)"
      ],
      "metadata": {
        "colab": {
          "base_uri": "https://localhost:8080/"
        },
        "id": "7nYbIsETjZn8",
        "outputId": "fce8c72c-0bbf-4aed-e2a2-381f515f0ef4"
      },
      "execution_count": null,
      "outputs": [
        {
          "output_type": "stream",
          "name": "stdout",
          "text": [
            "75.0\n"
          ]
        }
      ]
    },
    {
      "cell_type": "code",
      "execution_count": null,
      "metadata": {
        "id": "_CD841O5NY08",
        "outputId": "89057fa0-76b2-4512-9ae3-281339ed62bf",
        "colab": {
          "base_uri": "https://localhost:8080/"
        }
      },
      "outputs": [
        {
          "output_type": "stream",
          "name": "stdout",
          "text": [
            "range(0, 3)\n",
            "range(1, 3)\n",
            "range(1, 5, 2)\n"
          ]
        }
      ],
      "source": [
        "# 범위리스트 - 장점: 메모리효율적\n",
        "print(range(3))  # 결과: [0,1,2]\n",
        "print(range(1,3))  # 결과: [1,2]\n",
        "print(range(1,5,2))  # 결과: [1,3]"
      ]
    },
    {
      "cell_type": "code",
      "execution_count": null,
      "metadata": {
        "id": "jyvZVbMtNY08",
        "outputId": "44acc085-bb6b-4fef-bc99-920b46245e09",
        "colab": {
          "base_uri": "https://localhost:8080/"
        }
      },
      "outputs": [
        {
          "output_type": "stream",
          "name": "stdout",
          "text": [
            "dict_items([(1, '첫번째'), (2, '두번째'), (3, '세번째')])\n",
            "key=1, item=첫번째\n",
            "key=2, item=두번째\n",
            "key=3, item=세번째\n",
            "dict_keys([1, 2, 3])\n",
            "dict_values(['첫번째', '두번째', '세번째'])\n"
          ]
        }
      ],
      "source": [
        "# 사전 - key는 모든 타입으로 정의 가능\n",
        "# dic = {\n",
        "#   key: value\n",
        "# }\n",
        "# print(dic[key])  # 결과: value\n",
        "dic = {\n",
        "    1: \"첫번째\",\n",
        "    2: \"두번째\",\n",
        "    3: \"세번째\"\n",
        "}\n",
        "print(dic.items())\n",
        "for k, i in dic.items():\n",
        "    print(f\"key={k}, item={i}\")\n",
        "print(dic.keys())\n",
        "# print(검색어 in dic.keys())  # 결과: true or false\n",
        "print(dic.values())\n",
        "# print(검색어 in dic.values())  # 결과: true or false"
      ]
    },
    {
      "cell_type": "code",
      "source": [
        "# 사전 - 활용\n",
        "# 투표 결과 리스트\n",
        "votes = ['김영자', '강승기', '최만수', '김영자', '강승기', '강승기', '최만수', '김영자', \\\n",
        "'최만수', '김영자', '최만수', '김영자', '김영자', '최만수', '최만수', '최만수', '강승기', \\\n",
        "'강승기', '김영자', '김영자', '최만수', '김영자', '김영자', '강승기', '김영자']\n",
        "# 후보별 득표수 사전\n",
        "vote_counter = {}\n",
        "# 리스트 votes를 이용해서 사전 vote_counter를 정리하기\n",
        "for name in votes:\n",
        "    if name not in vote_counter:\n",
        "        vote_counter[name] = 1\n",
        "    else:\n",
        "        vote_counter[name] += 1\n",
        "print(vote_counter)"
      ],
      "metadata": {
        "colab": {
          "base_uri": "https://localhost:8080/"
        },
        "id": "oApxfkxAmW0m",
        "outputId": "79445e06-369d-4eae-b893-730b042fd400"
      },
      "execution_count": null,
      "outputs": [
        {
          "output_type": "stream",
          "name": "stdout",
          "text": [
            "{'김영자': 11, '강승기': 6, '최만수': 8}\n"
          ]
        }
      ]
    }
  ],
  "metadata": {
    "colab": {
      "provenance": [],
      "include_colab_link": true
    },
    "kernelspec": {
      "display_name": "bda",
      "language": "python",
      "name": "python3"
    },
    "language_info": {
      "codemirror_mode": {
        "name": "ipython",
        "version": 3
      },
      "file_extension": ".py",
      "mimetype": "text/x-python",
      "name": "python",
      "nbconvert_exporter": "python",
      "pygments_lexer": "ipython3",
      "version": "3.13.7"
    }
  },
  "nbformat": 4,
  "nbformat_minor": 0
}