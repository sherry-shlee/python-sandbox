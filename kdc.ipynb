{
  "cells": [
    {
      "cell_type": "markdown",
      "metadata": {
        "id": "view-in-github",
        "colab_type": "text"
      },
      "source": [
        "<a href=\"https://colab.research.google.com/github/sherry-shlee/python-sandbox/blob/main/kdc.ipynb\" target=\"_parent\"><img src=\"https://colab.research.google.com/assets/colab-badge.svg\" alt=\"Open In Colab\"/></a>"
      ]
    },
    {
      "cell_type": "code",
      "execution_count": null,
      "metadata": {
        "id": "Whp5BmntNY05",
        "outputId": "42474e09-b46d-40d7-8797-2cfd9cde6961",
        "colab": {
          "base_uri": "https://localhost:8080/"
        }
      },
      "outputs": [
        {
          "output_type": "stream",
          "name": "stdout",
          "text": [
            "1.5\n",
            "1\n",
            "1\n",
            "9\n",
            "9\n"
          ]
        }
      ],
      "source": [
        "# 사칙연산 결과 반환 우선순위: float -> int\n",
        "print(3 / 2)    # 나누기 연산 - 결과: 1.5\n",
        "print(3 // 2)   # 몫 연산 - 결과: 1\n",
        "print(3 % 2)    # 나머지 연산 - 결과: 1\n",
        "print(3 ** 2)   # 제곱 연산 - 결과: 9\n",
        "print(pow(3,2)) # 제곱 연산 - 결과: 9"
      ]
    },
    {
      "cell_type": "code",
      "execution_count": null,
      "metadata": {
        "id": "tR9_eI4DNY06",
        "outputId": "58739ddd-ff47-4946-bea9-7c6d0ff8cfa4",
        "colab": {
          "base_uri": "https://localhost:8080/"
        }
      },
      "outputs": [
        {
          "output_type": "stream",
          "name": "stdout",
          "text": [
            "1.5\n",
            "1\n",
            "3.14\n"
          ]
        }
      ],
      "source": [
        "# 사칙연산확장 및 형변환\n",
        "print(3/2)                  # 소수형(float)으로 반환됨\n",
        "print(int(3/2))             # 정수형(int)으로 반환됨\n",
        "print(round(3.141592, 2))   # 결과: 3.14"
      ]
    },
    {
      "cell_type": "code",
      "execution_count": null,
      "metadata": {
        "id": "Ww98POsWNY06",
        "outputId": "1b0ee70e-3519-4246-faaf-427f81b9feb1",
        "colab": {
          "base_uri": "https://localhost:8080/"
        }
      },
      "outputs": [
        {
          "output_type": "stream",
          "name": "stdout",
          "text": [
            "34\n",
            "HelloHelloHello\n",
            "안녕하세요 '파이썬'으로 개발하는 \"홍길동\" 입니다.\n",
            "안녕하세요 -이름:홍길동 -나이:20\n",
            "\"   \t 안녕 하세요 !  \n",
            "  \"\n",
            "['1', '2', '3']\n"
          ]
        }
      ],
      "source": [
        "# 문자열연산\n",
        "print(\"3\"+\"4\")    # 결과: 34\n",
        "print(\"Hello\"*3)  # 결과: HelloHelloHello\n",
        "print(\"안녕하세요 \\'파이썬\\'으로 개발하는 \\\"홍길동\\\" 입니다.\")\n",
        "\n",
        "name=\"홍길동\"\n",
        "age=20\n",
        "print(f\"안녕하세요 -이름:{name} -나이:{age}\")  # f-string: python3.6부터 추가된 문법\n",
        "\n",
        "s=\"\\\"   \\t 안녕 하세요 !  \\n  \\\"\"\n",
        "print(s.strip())     # 결과: 안녕하세요!\n",
        "\n",
        "s=\"1.2.3\"\n",
        "print(s.split(\".\"))  # 결과: [\"1\", \"2\", \"3\"]"
      ]
    },
    {
      "cell_type": "code",
      "execution_count": null,
      "metadata": {
        "id": "mwnPKh2lNY06",
        "outputId": "1d47e529-4c23-4057-b14f-cb4dbc491042",
        "colab": {
          "base_uri": "https://localhost:8080/"
        }
      },
      "outputs": [
        {
          "output_type": "stream",
          "name": "stdout",
          "text": [
            "True\n",
            "False\n",
            "False\n",
            "True\n"
          ]
        }
      ],
      "source": [
        "# 논리연산\n",
        "print(not not True)   # 결과: True\n",
        "print(not not False)  # 결과: False\n",
        "print(3<2 and \"Hello\"==\"Hello\")  # 결과: False\n",
        "print(3<2 or \"Hello\"==\"Hello\")   # 결과: True"
      ]
    },
    {
      "cell_type": "code",
      "execution_count": null,
      "metadata": {
        "id": "6RJYJ6ojNY07",
        "outputId": "4c80b9eb-36a7-4d38-9b23-921758a4b66b",
        "colab": {
          "base_uri": "https://localhost:8080/"
        }
      },
      "outputs": [
        {
          "output_type": "stream",
          "name": "stdout",
          "text": [
            "<class 'int'>\n",
            "<class 'float'>\n",
            "<class 'str'>\n",
            "<class 'bool'>\n",
            "<class 'dict'>\n"
          ]
        }
      ],
      "source": [
        "# 자료형 - 변수\n",
        "print(type(3))       # 결과: <class 'int'>\n",
        "print(type(3.0))     # 결과: <class 'float'>\n",
        "print(type(\"True\"))  # 결과: <class 'str'>\n",
        "print(type(True))    # 결과: <class 'bool'>\n",
        "dic={\n",
        "  5: 25,\n",
        "  2: 4\n",
        "}\n",
        "print(type(dic))     # 결과: <class 'dict'>"
      ]
    },
    {
      "cell_type": "code",
      "execution_count": null,
      "metadata": {
        "id": "fRrGRWv1NY07",
        "outputId": "ed120d2c-5065-4d58-e0d7-67a6dfdd2fb0",
        "colab": {
          "base_uri": "https://localhost:8080/"
        }
      },
      "outputs": [
        {
          "output_type": "stream",
          "name": "stdout",
          "text": [
            "<class 'function'>\n",
            "<class 'builtin_function_or_method'>\n"
          ]
        }
      ],
      "source": [
        "# 자료형 - 메서드\n",
        "def myself():\n",
        "\tprint(\"Hello World\")\n",
        "print(type(myself))  # 결과: <class 'function'>\n",
        "print(type(print))   # 결과: <class 'builtin_function_or_method'>"
      ]
    },
    {
      "cell_type": "code",
      "execution_count": null,
      "metadata": {
        "id": "Dzv-JA9qNY07"
      },
      "outputs": [],
      "source": [
        "# 함수\n",
        "# def myself(name, age, nationality=\"한국\"): # optional param은 항상 마지막에\n",
        "# def myself(name, age=\"20\", nationality):   # SyntaxError 발생"
      ]
    },
    {
      "cell_type": "code",
      "execution_count": null,
      "metadata": {
        "id": "2MamA3tVNY07",
        "outputId": "b509b586-4f19-4882-d5f6-cbbf80cd17a8",
        "colab": {
          "base_uri": "https://localhost:8080/"
        }
      },
      "outputs": [
        {
          "output_type": "stream",
          "name": "stdout",
          "text": [
            "3\n",
            "2\n"
          ]
        }
      ],
      "source": [
        "# 변수 Scope\n",
        "x=2  # 전역변수(global variable)\n",
        "def my_function():\n",
        "\tx=3      # 지역변수(local variable)\n",
        "\tprint(x) # 지역변수 x를 취급함\n",
        "my_function()  # 결과: 3\n",
        "print(x)       # 결과: 2"
      ]
    },
    {
      "cell_type": "code",
      "execution_count": null,
      "metadata": {
        "id": "_Vci9zmVNY07"
      },
      "outputs": [],
      "source": [
        "# 반복문\n",
        "# while(계속반복조건):"
      ]
    },
    {
      "cell_type": "code",
      "execution_count": null,
      "metadata": {
        "id": "KvGHuqt2NY07",
        "outputId": "42a9f601-617f-445e-fcfb-533054d4ef6f",
        "colab": {
          "base_uri": "https://localhost:8080/"
        }
      },
      "outputs": [
        {
          "output_type": "stream",
          "name": "stdout",
          "text": [
            "F\n"
          ]
        }
      ],
      "source": [
        "# 조건문\n",
        "total = 70\n",
        "if total >= 90: print(\"A\")\n",
        "elif total >= 80: print(\"B\")  # elif특징: 80이상 90미만을 뜻함\n",
        "else: print(\"F\")"
      ]
    },
    {
      "cell_type": "code",
      "execution_count": null,
      "metadata": {
        "id": "jMZVnJ0YNY08",
        "outputId": "a15b511c-955e-4916-ab5a-5e4838d51fc0",
        "colab": {
          "base_uri": "https://localhost:8080/"
        }
      },
      "outputs": [
        {
          "output_type": "stream",
          "name": "stdout",
          "text": [
            "2\n",
            "[5]\n",
            "[2, 3, 4, 5]\n",
            "[5, 4, 3, 2]\n",
            "[5, 4, 3, 2]\n"
          ]
        }
      ],
      "source": [
        "# 리스트\n",
        "nums=[]\n",
        "nums.append(3)\n",
        "nums.append(5)\n",
        "print(len(nums))  # 결과: 2\n",
        "del nums[0]\n",
        "print(nums)  # 결과: [5]\n",
        "nums=[2,3,5]\n",
        "nums.insert(2,4)\n",
        "print(nums)                         # 결과: [2,3,4,5]\n",
        "print(sorted(nums, reverse=True))   # 결과: [5,4,3,2]\n",
        "nums.sort(reverse=True)\n",
        "print(nums)                         # 결과: [5,4,3,2]"
      ]
    },
    {
      "cell_type": "code",
      "execution_count": null,
      "metadata": {
        "id": "yiqMpUwjNY08",
        "outputId": "0186b4ac-c42c-4587-8090-c419c5a0ed1e",
        "colab": {
          "base_uri": "https://localhost:8080/"
        }
      },
      "outputs": [
        {
          "output_type": "stream",
          "name": "stdout",
          "text": [
            "첫번째\n",
            "두번째\n",
            "세번째\n"
          ]
        }
      ],
      "source": [
        "# 리스트 반복문 - while문\n",
        "arr=[\"첫번째\", \"두번째\", \"세번째\"]\n",
        "i=0  # 0부터 시작하는 습관\n",
        "while(i<len(arr)):\n",
        "  print(arr[i])\n",
        "  i+=1"
      ]
    },
    {
      "cell_type": "code",
      "execution_count": null,
      "metadata": {
        "id": "yuQ_k9cRNY08",
        "outputId": "a11c95d9-4c06-4446-85fa-9bc403d304eb",
        "colab": {
          "base_uri": "https://localhost:8080/"
        }
      },
      "outputs": [
        {
          "output_type": "stream",
          "name": "stdout",
          "text": [
            "첫번째\n",
            "두번째\n",
            "세번째\n"
          ]
        }
      ],
      "source": [
        "# 리스트 반복문 - for문\n",
        "for num in arr:\n",
        "  print(num)"
      ]
    },
    {
      "cell_type": "code",
      "source": [
        "# 리스트 활용\n",
        "numbers=[1,7,3,6,5,2,13,14]\n",
        "i=0\n",
        "while(i<len(numbers)):\n",
        "  if (numbers[i]%2!=0): numbers.pop(i)\n",
        "  else: i+=1\n",
        "print(numbers)  # 실행1과 실행2는 같은 결과\n",
        "\n",
        "numbers=[1,7,3,6,5,2,13,14]\n",
        "numbers = [x for x in numbers if x % 2 == 0]\n",
        "print(numbers)  # 실행1과 실행2는 같은 결과"
      ],
      "metadata": {
        "id": "KbIVRErXiE9q",
        "outputId": "68c7befc-d920-4573-b2f4-415db8f95fc0",
        "colab": {
          "base_uri": "https://localhost:8080/"
        }
      },
      "execution_count": 2,
      "outputs": [
        {
          "output_type": "stream",
          "name": "stdout",
          "text": [
            "[6, 2, 14]\n",
            "[6, 2, 14]\n"
          ]
        }
      ]
    },
    {
      "cell_type": "code",
      "execution_count": null,
      "metadata": {
        "id": "_CD841O5NY08",
        "outputId": "5ff443f0-628e-4202-ea9d-656b3e22d462",
        "colab": {
          "base_uri": "https://localhost:8080/"
        }
      },
      "outputs": [
        {
          "output_type": "stream",
          "name": "stdout",
          "text": [
            "range(0, 3)\n",
            "range(1, 3)\n",
            "range(1, 5, 2)\n"
          ]
        }
      ],
      "source": [
        "# 범위리스트 - 장점: 메모리효율적\n",
        "print(range(3))  # 결과: [0,1,2]\n",
        "print(range(1,3))  # 결과: [1,2]\n",
        "print(range(1,5,2))  # 결과: [1,3]"
      ]
    },
    {
      "cell_type": "code",
      "execution_count": null,
      "metadata": {
        "id": "jyvZVbMtNY08",
        "outputId": "8d04bb2d-7482-48a9-cc5a-68312a6084b3",
        "colab": {
          "base_uri": "https://localhost:8080/"
        }
      },
      "outputs": [
        {
          "output_type": "stream",
          "name": "stdout",
          "text": [
            "dict_items([(1, '첫번째'), (2, '두번째'), (3, '세번째')])\n",
            "key=1, item=첫번째\n",
            "key=2, item=두번째\n",
            "key=3, item=세번째\n",
            "dict_keys([1, 2, 3])\n",
            "dict_values(['첫번째', '두번째', '세번째'])\n"
          ]
        }
      ],
      "source": [
        "# 사전 - key는 모든 타입으로 정의 가능\n",
        "# dic = {\n",
        "#   key: value\n",
        "# }\n",
        "# print(dic[key])  # 결과: value\n",
        "dic = {\n",
        "    1: \"첫번째\",\n",
        "    2: \"두번째\",\n",
        "    3: \"세번째\"\n",
        "}\n",
        "print(dic.items())\n",
        "for k, i in dic.items():\n",
        "    print(f\"key={k}, item={i}\")\n",
        "print(dic.keys())\n",
        "# print(검색어 in dic.keys())  # 결과: true or false\n",
        "print(dic.values())\n",
        "# print(검색어 in dic.values())  # 결과: true or false"
      ]
    }
  ],
  "metadata": {
    "colab": {
      "provenance": [],
      "include_colab_link": true
    },
    "kernelspec": {
      "display_name": "bda",
      "language": "python",
      "name": "python3"
    },
    "language_info": {
      "codemirror_mode": {
        "name": "ipython",
        "version": 3
      },
      "file_extension": ".py",
      "mimetype": "text/x-python",
      "name": "python",
      "nbconvert_exporter": "python",
      "pygments_lexer": "ipython3",
      "version": "3.13.7"
    }
  },
  "nbformat": 4,
  "nbformat_minor": 0
}